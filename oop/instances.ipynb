{
 "cells": [
  {
   "cell_type": "markdown",
   "metadata": {},
   "source": [
    "### Creating Our First Point2D Instance\n",
    "\n",
    "- Import the Point2D class from the Point module, similar to how we imported the pyplot class from the matplotlib module so that we could use the scatter method\n",
    "- Invoke the class object as if it were a method/function\n",
    "\n",
    "_Remember the `Point2D` class was defined in the [constructor_for_point_class.py file](constructor_for_point_class.py)_\n",
    "\n",
    "A non-notebooke file is also available in the [point_2d_instance.py](point_2d_instance.py)\n",
    "\n"
   ]
  },
  {
   "cell_type": "code",
   "execution_count": 9,
   "metadata": {},
   "outputs": [
    {
     "name": "stdout",
     "output_type": "stream",
     "text": [
      "I am a Point2D object\n",
      "My x coordinate is  18.382\n",
      "My x coordinate is  31.382\n"
     ]
    }
   ],
   "source": [
    "from constructor_for_point_class import Point2D\n",
    "\n",
    "myPoint = Point2D(18.3820, 31.3820)"
   ]
  },
  {
   "cell_type": "markdown",
   "metadata": {},
   "source": [
    "#### What Happens if the wrong class is imported? "
   ]
  },
  {
   "cell_type": "code",
   "execution_count": 2,
   "metadata": {},
   "outputs": [
    {
     "ename": "NameError",
     "evalue": "name 'Point3D' is not defined",
     "output_type": "error",
     "traceback": [
      "\u001b[1;31m---------------------------------------------------------------------------\u001b[0m",
      "\u001b[1;31mNameError\u001b[0m                                 Traceback (most recent call last)",
      "Cell \u001b[1;32mIn[2], line 1\u001b[0m\n\u001b[1;32m----> 1\u001b[0m myPoint \u001b[38;5;241m=\u001b[39m \u001b[43mPoint3D\u001b[49m(\u001b[38;5;241m18.3820\u001b[39m, \u001b[38;5;241m31.3820\u001b[39m)\n",
      "\u001b[1;31mNameError\u001b[0m: name 'Point3D' is not defined"
     ]
    }
   ],
   "source": [
    "myPoint = Point3D(18.3820, 31.3820)"
   ]
  },
  {
   "cell_type": "markdown",
   "metadata": {},
   "source": [
    "#### What is the wrong number of parameters is provided? "
   ]
  },
  {
   "cell_type": "code",
   "execution_count": 3,
   "metadata": {},
   "outputs": [
    {
     "ename": "TypeError",
     "evalue": "Point2D.__init__() missing 1 required positional argument: 'y'",
     "output_type": "error",
     "traceback": [
      "\u001b[1;31m---------------------------------------------------------------------------\u001b[0m",
      "\u001b[1;31mTypeError\u001b[0m                                 Traceback (most recent call last)",
      "Cell \u001b[1;32mIn[3], line 1\u001b[0m\n\u001b[1;32m----> 1\u001b[0m myPoint \u001b[38;5;241m=\u001b[39m \u001b[43mPoint2D\u001b[49m\u001b[43m(\u001b[49m\u001b[38;5;241;43m18.3820\u001b[39;49m\u001b[43m)\u001b[49m\n",
      "\u001b[1;31mTypeError\u001b[0m: Point2D.__init__() missing 1 required positional argument: 'y'"
     ]
    }
   ],
   "source": [
    "myPoint = Point2D(18.3820)"
   ]
  },
  {
   "cell_type": "markdown",
   "metadata": {},
   "source": [
    "#### Accessing Instance Variables \n",
    "\n",
    "There will be many occasions when we will want to access an Object’s instance variables (i.e. those variables bound to an object within the constructor method) from either our Driver module or other module/class\n",
    "\n",
    "The method considered ‘best practice’ for Python programming is to use the dot(.) operator:\n",
    "\n",
    "\n",
    "`object.variable_name`"
   ]
  },
  {
   "cell_type": "code",
   "execution_count": 10,
   "metadata": {},
   "outputs": [
    {
     "name": "stdout",
     "output_type": "stream",
     "text": [
      "I am a Point2D object\n",
      "My x coordinate is  -18.382\n",
      "My x coordinate is  31.382\n",
      "-18.382\n",
      "31.382\n"
     ]
    }
   ],
   "source": [
    "myPoint = Point2D(-18.3820, 31.3820)\n",
    "\n",
    "\n",
    "# Lets access the coordinates separately \n",
    "print(myPoint.x)\n",
    "print(myPoint.y)"
   ]
  },
  {
   "cell_type": "markdown",
   "metadata": {},
   "source": [
    "#### Let's See the Class Methods in some action \n",
    "\n",
    "Let's try out the new method in the driver "
   ]
  },
  {
   "cell_type": "code",
   "execution_count": 13,
   "metadata": {},
   "outputs": [
    {
     "name": "stdout",
     "output_type": "stream",
     "text": [
      "Original coordinates of myPoint\n",
      "-18.382\n",
      "31.382\n"
     ]
    }
   ],
   "source": [
    "from point2D_method import Point2D\n",
    "\n",
    "myPoint = Point2D(-18.3820, 31.3820)\n",
    "\n",
    "# Lets print the original coordinates of myPoint \n",
    "print('Original coordinates of myPoint')\n",
    "print(myPoint.x)\n",
    "print(myPoint.y)"
   ]
  },
  {
   "cell_type": "markdown",
   "metadata": {},
   "source": [
    "Invoking the `translate` method of Point2D class "
   ]
  },
  {
   "cell_type": "code",
   "execution_count": 14,
   "metadata": {},
   "outputs": [
    {
     "name": "stdout",
     "output_type": "stream",
     "text": [
      "New coordinates of myPoint\n",
      "-13.382000000000001\n",
      "29.382\n"
     ]
    }
   ],
   "source": [
    "myPoint.translate(5, -2)\n",
    "\n",
    "print('New coordinates of myPoint')\n",
    "print(myPoint.x)\n",
    "print(myPoint.y)"
   ]
  }
 ],
 "metadata": {
  "kernelspec": {
   "display_name": "base",
   "language": "python",
   "name": "python3"
  },
  "language_info": {
   "codemirror_mode": {
    "name": "ipython",
    "version": 3
   },
   "file_extension": ".py",
   "mimetype": "text/x-python",
   "name": "python",
   "nbconvert_exporter": "python",
   "pygments_lexer": "ipython3",
   "version": "3.11.5"
  }
 },
 "nbformat": 4,
 "nbformat_minor": 2
}
