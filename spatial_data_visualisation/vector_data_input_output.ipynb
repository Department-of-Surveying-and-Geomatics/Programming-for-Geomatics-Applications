{
 "cells": [
  {
   "cell_type": "markdown",
   "metadata": {},
   "source": [
    "_In data science projects, it is a good habit to define a constant at the beginning of each notebook that points to the data directory, or multiple constants to point to, for instance, input and output directories._"
   ]
  },
  {
   "cell_type": "code",
   "execution_count": 6,
   "metadata": {},
   "outputs": [],
   "source": [
    "# location (directory) of the notebook\n",
    "import pathlib\n",
    "NOTEBOOK_PATH = pathlib.Path().resolve()\n",
    "\n",
    "# define the absolute path to the data\n",
    "input_data_directory = NOTEBOOK_PATH.parent / \"input_data\"\n",
    "output_data_directory = NOTEBOOK_PATH.parent / \"output_data\""
   ]
  },
  {
   "cell_type": "markdown",
   "metadata": {},
   "source": [
    "# Vector Data I/O \n",
    "\n",
    "One of the first steps of many analysis workflow is to read data from a file, one of the last steps often writes data to an output file. To the horror of many geoinformatics scholars, there exist many file formats for GIS data: the old and hated but also loved and established ESRI Shapefile, the universal Geopackage (GPKG), and the web-optimised GeoJSON are just a few of the more well-known examples.\n",
    "\n",
    "Fear not, Python can read them all (no guarantees, though)!\n",
    "\n",
    "Most of the current Python GIS packages rely on the **GDAL/OGR** libraries, for which modern interfaces exist in the form of the fiona and rasterio Python packages.\n",
    "\n",
    "for this lecture we’ll concentrate on vector data, so let’s first take a closer look at fiona’s capabilities, and then import and export data using geopandas, which uses fiona under its hood.\n",
    "\n",
    "For this make sure to have installed `GeoPandas` in the virtual environment for this module. \n",
    "\n",
    "Using the Anaconda Prompt, you can run `conda install geopandas` OR simply check out the [Geopandas guide on getting started](https://geopandas.org/en/stable/getting_started.html)"
   ]
  },
  {
   "cell_type": "code",
   "execution_count": null,
   "metadata": {},
   "outputs": [],
   "source": []
  }
 ],
 "metadata": {
  "kernelspec": {
   "display_name": "hsvg_245",
   "language": "python",
   "name": "python3"
  },
  "language_info": {
   "codemirror_mode": {
    "name": "ipython",
    "version": 3
   },
   "file_extension": ".py",
   "mimetype": "text/x-python",
   "name": "python",
   "nbconvert_exporter": "python",
   "pygments_lexer": "ipython3",
   "version": "3.11.9"
  }
 },
 "nbformat": 4,
 "nbformat_minor": 2
}
