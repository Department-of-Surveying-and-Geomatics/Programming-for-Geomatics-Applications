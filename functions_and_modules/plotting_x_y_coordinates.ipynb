{
 "cells": [
  {
   "cell_type": "markdown",
   "metadata": {},
   "source": [
    "### Plotting Coordinates with Matplotlib \n",
    "\n",
    "In this step by step approach we will plot coordinates from the [x_y_coordinates.txt file](../x_y_coordinates.txt) using [Matplotlib](https://matplotlib.org/). \n",
    "\n",
    "1. we begin by accessing the file \n",
    "2. reading the file contents \n",
    "3. structuring the file data based on the documentation guides \n",
    "4. convert string data type into float data type \n",
    "5. finally we create the plot \n",
    "\n",
    "At the end of this guide, students will have a short task that is to be completed before the end of the lecture. "
   ]
  },
  {
   "cell_type": "code",
   "execution_count": 9,
   "metadata": {},
   "outputs": [],
   "source": [
    "\"\"\"\n",
    "@author: Surveyor-Jr\n",
    "\"\"\"\n",
    "# Open the coordinate file using the 'read' (r) mode\n",
    "my_file = open('C:/Users/Kumbirai.Matingo/Documents/Midlands State University/Staff Development Fellowship - Lecturing/2024/HSVG 245 - Programming for Geomatics Applications/Lecture_Code_Snippets/x_y_coordinates.txt', 'r')"
   ]
  },
  {
   "cell_type": "code",
   "execution_count": 2,
   "metadata": {},
   "outputs": [
    {
     "name": "stdout",
     "output_type": "stream",
     "text": [
      "x, y\n",
      "-18.9686, 31.1668\n",
      "-17.8274, 31.0521\n",
      "-20.1505, 28.5845\n",
      "-19.8327, 32.7649\n",
      "-17.5222, 30.9737\n",
      "-18.3712, 26.4995\n",
      "-20.2901, 30.0582\n",
      "-16.5174, 28.7902\n",
      "-19.3458, 29.5485\n",
      "-17.9009, 25.8201\n",
      "-20.2739, 29.4214\n",
      "-18.9622, 31.0444\n",
      "-16.5261, 30.8099\n",
      "-19.3597, 30.8711\n",
      "-17.8136, 29.4608\n",
      "-19.7907, 31.0036\n",
      "-18.3141, 27.0326\n",
      "-19.4346, 29.8174\n",
      "-20.2277, 29.1534\n",
      "-17.3569, 30.1662\n",
      "\n"
     ]
    }
   ],
   "source": [
    "# Reading the file - Exhibit 1\n",
    "print(my_file.read())"
   ]
  },
  {
   "cell_type": "code",
   "execution_count": 14,
   "metadata": {},
   "outputs": [
    {
     "name": "stdout",
     "output_type": "stream",
     "text": [
      "['x, y\\n', '-18.9686, 31.1668\\n', '-17.8274, 31.0521\\n', '-20.1505, 28.5845\\n', '-19.8327, 32.7649\\n', '-17.5222, 30.9737\\n', '-18.3712, 26.4995\\n', '-20.2901, 30.0582\\n', '-16.5174, 28.7902\\n', '-19.3458, 29.5485\\n', '-17.9009, 25.8201\\n', '-20.2739, 29.4214\\n', '-18.9622, 31.0444\\n', '-16.5261, 30.8099\\n', '-19.3597, 30.8711\\n', '-17.8136, 29.4608\\n', '-19.7907, 31.0036\\n', '-18.3141, 27.0326\\n', '-19.4346, 29.8174\\n', '-20.2277, 29.1534\\n', '-17.3569, 30.1662\\n']\n"
     ]
    }
   ],
   "source": [
    "# Reading the file - Exhibit 2 \n",
    "print(my_file.readlines())"
   ]
  },
  {
   "cell_type": "code",
   "execution_count": 17,
   "metadata": {},
   "outputs": [
    {
     "name": "stdout",
     "output_type": "stream",
     "text": [
      "x, y\n",
      "\n"
     ]
    }
   ],
   "source": [
    "# Reading the file - Exhibit 3 \n",
    "print(my_file.readline())"
   ]
  },
  {
   "cell_type": "code",
   "execution_count": 10,
   "metadata": {},
   "outputs": [
    {
     "name": "stdout",
     "output_type": "stream",
     "text": [
      "-18.9686, 31.1668\n",
      "\n",
      "-17.8274, 31.0521\n",
      "\n",
      "-20.1505, 28.5845\n",
      "\n",
      "-19.8327, 32.7649\n",
      "\n",
      "-17.5222, 30.9737\n",
      "\n",
      "-18.3712, 26.4995\n",
      "\n",
      "-20.2901, 30.0582\n",
      "\n",
      "-16.5174, 28.7902\n",
      "\n",
      "-19.3458, 29.5485\n",
      "\n",
      "-17.9009, 25.8201\n",
      "\n",
      "-20.2739, 29.4214\n",
      "\n",
      "-18.9622, 31.0444\n",
      "\n",
      "-16.5261, 30.8099\n",
      "\n",
      "-19.3597, 30.8711\n",
      "\n",
      "-17.8136, 29.4608\n",
      "\n",
      "-19.7907, 31.0036\n",
      "\n",
      "-18.3141, 27.0326\n",
      "\n",
      "-19.4346, 29.8174\n",
      "\n",
      "-20.2277, 29.1534\n",
      "\n",
      "-17.3569, 30.1662\n",
      "\n"
     ]
    }
   ],
   "source": [
    "# Looping through the lines \n",
    "for line in my_file.readlines():\n",
    "    print(line)"
   ]
  },
  {
   "cell_type": "code",
   "execution_count": 27,
   "metadata": {},
   "outputs": [
    {
     "name": "stdout",
     "output_type": "stream",
     "text": [
      "['x', 'y\\n']\n",
      "['-18.9686', '31.1668\\n']\n",
      "['-17.8274', '31.0521\\n']\n",
      "['-20.1505', '28.5845\\n']\n",
      "['-19.8327', '32.7649\\n']\n",
      "['-17.5222', '30.9737\\n']\n",
      "['-18.3712', '26.4995\\n']\n",
      "['-20.2901', '30.0582\\n']\n",
      "['-16.5174', '28.7902\\n']\n",
      "['-19.3458', '29.5485\\n']\n",
      "['-17.9009', '25.8201\\n']\n",
      "['-20.2739', '29.4214\\n']\n",
      "['-18.9622', '31.0444\\n']\n",
      "['-16.5261', '30.8099\\n']\n",
      "['-19.3597', '30.8711\\n']\n",
      "['-17.8136', '29.4608\\n']\n",
      "['-19.7907', '31.0036\\n']\n",
      "['-18.3141', '27.0326\\n']\n",
      "['-19.4346', '29.8174\\n']\n",
      "['-20.2277', '29.1534\\n']\n",
      "['-17.3569', '30.1662\\n']\n"
     ]
    }
   ],
   "source": [
    "# splitting columns \n",
    "for line in my_file.readlines():\n",
    "    print(line.split(', '))"
   ]
  },
  {
   "cell_type": "code",
   "execution_count": 30,
   "metadata": {},
   "outputs": [
    {
     "name": "stdout",
     "output_type": "stream",
     "text": [
      "x\n",
      "-18.9686\n",
      "-17.8274\n",
      "-20.1505\n",
      "-19.8327\n",
      "-17.5222\n",
      "-18.3712\n",
      "-20.2901\n",
      "-16.5174\n",
      "-19.3458\n",
      "-17.9009\n",
      "-20.2739\n",
      "-18.9622\n",
      "-16.5261\n",
      "-19.3597\n",
      "-17.8136\n",
      "-19.7907\n",
      "-18.3141\n",
      "-19.4346\n",
      "-20.2277\n",
      "-17.3569\n"
     ]
    }
   ],
   "source": [
    "# Split columns and index \n",
    "for line in my_file.readlines():\n",
    "    print(line.split(', ')[0])"
   ]
  },
  {
   "cell_type": "code",
   "execution_count": 3,
   "metadata": {},
   "outputs": [],
   "source": [
    "# Place Coordinates into Separate Lists \n",
    "\n",
    "\n",
    "# Create two empty lists. One for x and another for y coordinates \n",
    "x_coords = []\n",
    "y_coords = []\n",
    "\n",
    "# Read first line to skip the file header \n",
    "my_file.readline()\n",
    "\n",
    "# read the remaining lines with coordinates \n",
    "for line in my_file.readlines():\n",
    "    # first element goes to x list\n",
    "    x_coords.append(line.split(', ')[0]) # => use the index value zero \n",
    "    # second element goes to y list\n",
    "    y_coords.append(line.split(', ')[1]) # => use the index value one "
   ]
  },
  {
   "cell_type": "code",
   "execution_count": 4,
   "metadata": {},
   "outputs": [
    {
     "name": "stdout",
     "output_type": "stream",
     "text": [
      "-18.9686\n",
      "-17.8274\n",
      "-20.1505\n",
      "-19.8327\n",
      "-17.5222\n",
      "-18.3712\n",
      "-20.2901\n",
      "-16.5174\n",
      "-19.3458\n",
      "-17.9009\n",
      "-20.2739\n",
      "-18.9622\n",
      "-16.5261\n",
      "-19.3597\n",
      "-17.8136\n",
      "-19.7907\n",
      "-18.3141\n",
      "-19.4346\n",
      "-20.2277\n",
      "-17.3569\n"
     ]
    }
   ],
   "source": [
    "# loop through the new list to see its elements \n",
    "for item in x_coords:\n",
    "    print(item) "
   ]
  },
  {
   "cell_type": "code",
   "execution_count": 6,
   "metadata": {},
   "outputs": [
    {
     "name": "stdout",
     "output_type": "stream",
     "text": [
      "<class 'str'>\n"
     ]
    }
   ],
   "source": [
    "# check the data type for our list \n",
    "print(type(x_coords[0]))"
   ]
  },
  {
   "cell_type": "code",
   "execution_count": 10,
   "metadata": {},
   "outputs": [],
   "source": [
    "# Parse the coordinates as float data type (from string)\n",
    "\n",
    "# Create two empty lists. One for x and another for y coordinates \n",
    "x_coords = []\n",
    "y_coords = []\n",
    "\n",
    "# Read first line to skip the file header \n",
    "my_file.readline()\n",
    "\n",
    "# read the remaining lines with coordinates \n",
    "for line in my_file.readlines():\n",
    "    # first element goes to x list\n",
    "    x_coords.append(float(line.split(', ')[0])) # => use the index value zero \n",
    "    # second element goes to y list\n",
    "    y_coords.append(float(line.split(', ')[1])) # => use the index value one \n"
   ]
  },
  {
   "cell_type": "markdown",
   "metadata": {},
   "source": [
    "_Another longer and easy to follow way to do this_ \n",
    "\n",
    "```python\n",
    "# Another longer way to do this ==> Uncomment below and Comment above loop\n",
    "for line in my_file.readlines():\n",
    "    # separate coordinate strings \n",
    "    coords = line.split(', ') # by the comma (,)\n",
    "\n",
    "    # parse individual coordinates \n",
    "    x = float(coords[0])\n",
    "    x = float(coords[1])\n",
    "\n",
    "    # add coordinates to the lists \n",
    "    y_coords.append(y)\n",
    "    x_coords.append(x)\n",
    "```"
   ]
  },
  {
   "cell_type": "code",
   "execution_count": 11,
   "metadata": {},
   "outputs": [
    {
     "name": "stdout",
     "output_type": "stream",
     "text": [
      "<class 'float'>\n"
     ]
    }
   ],
   "source": [
    "print(type(x_coords[0]))"
   ]
  },
  {
   "cell_type": "code",
   "execution_count": 12,
   "metadata": {},
   "outputs": [],
   "source": [
    "# Generating the scatter plot \n",
    "\n",
    "# import the pyplot module \n",
    "import matplotlib.pyplot as plt "
   ]
  },
  {
   "cell_type": "code",
   "execution_count": 13,
   "metadata": {},
   "outputs": [
    {
     "data": {
      "image/png": "[encoded data removed]",
      "text/plain": [
       "<Figure size 640x480 with 1 Axes>"
      ]
     },
     "metadata": {},
     "output_type": "display_data"
    }
   ],
   "source": [
    "# The actual plot now \n",
    "\n",
    "# Generate the scatter plot \n",
    "plt.scatter(x_coords, y_coords)\n",
    "\n",
    "# display \n",
    "plt.show()"
   ]
  },
  {
   "cell_type": "markdown",
   "metadata": {},
   "source": [
    "### Organizing Our Code  \n",
    "\n",
    "Create a function `plot_data()` which accepts a _file_ object as an input parameter and  returns a **scatterplot** of the data\n",
    "\n",
    "- Let’s first modify our `get_file()` function which we created earlier. \n",
    "  \n",
    "- You can find the `get_file()` function from the [return_statement.ipynb notebook](return_statement.ipynb)\n",
    "\n",
    "_Below is a starting point_ \n"
   ]
  },
  {
   "cell_type": "code",
   "execution_count": null,
   "metadata": {},
   "outputs": [],
   "source": [
    "def plot_data(my_file):\n",
    "    '''\n",
    "    This function plots a scatterplot provided with a coordinate text file path \n",
    "\n",
    "    Parameters\n",
    "    ----------\n",
    "    my_file : STRING \n",
    "        Required path to the file with coordinates in text format \n",
    "\n",
    "    Returns\n",
    "    ---------\n",
    "    Scatterplot \n",
    "    '''\n",
    "    scatter_plot = None \n",
    "    \"\"\"\n",
    "    ==> Write your code here <==\n",
    "    \"\"\"\n",
    "    return scatter_plot "
   ]
  }
 ],
 "metadata": {
  "kernelspec": {
   "display_name": "base",
   "language": "python",
   "name": "python3"
  },
  "language_info": {
   "codemirror_mode": {
    "name": "ipython",
    "version": 3
   },
   "file_extension": ".py",
   "mimetype": "text/x-python",
   "name": "python",
   "nbconvert_exporter": "python",
   "pygments_lexer": "ipython3",
   "version": "3.11.5"
  }
 },
 "nbformat": 4,
 "nbformat_minor": 2
}
