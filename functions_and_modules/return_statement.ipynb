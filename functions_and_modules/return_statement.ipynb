{
 "cells": [
  {
   "cell_type": "markdown",
   "metadata": {},
   "source": [
    "### Using the `return` Statement \n",
    "\n",
    "A basic example of how the `return` statement is used when dealing with functions "
   ]
  },
  {
   "cell_type": "code",
   "execution_count": 3,
   "metadata": {},
   "outputs": [],
   "source": [
    "def get_file(choice):\n",
    "    \"\"\"\n",
    "    Basic function to open a file \n",
    "    \"\"\"\n",
    "    file = None\n",
    "    if choice == 1:\n",
    "        # Conditions could be set for such operations \n",
    "        file = open('C:/Users/Kumbirai.Matingo/Documents/Midlands State University/Staff Development Fellowship - Lecturing/2024/HSVG 245 - Programming for Geomatics Applications/Lecture_Code_Snippets/example_text_file.txt')\n",
    "    else:\n",
    "        # When conditions are not met, do something else \n",
    "        print(\"File choice invalid\")\n",
    "    return file"
   ]
  },
  {
   "cell_type": "markdown",
   "metadata": {},
   "source": [
    "Call the function to get the file path and some additional information "
   ]
  },
  {
   "cell_type": "code",
   "execution_count": 4,
   "metadata": {},
   "outputs": [
    {
     "data": {
      "text/plain": [
       "<_io.TextIOWrapper name='C:/Users/Kumbirai.Matingo/Documents/Midlands State University/Staff Development Fellowship - Lecturing/2024/HSVG 245 - Programming for Geomatics Applications/Lecture_Code_Snippets/example_text_file.txt' mode='r' encoding='utf-8'>"
      ]
     },
     "execution_count": 4,
     "metadata": {},
     "output_type": "execute_result"
    }
   ],
   "source": [
    "# Call the function to get the file \n",
    "# ==> Return the file value \n",
    "get_file(1)"
   ]
  },
  {
   "cell_type": "markdown",
   "metadata": {},
   "source": [
    "Here is the returned data in good structured format \n",
    "\n",
    "\n",
    "```\n",
    "<_io.TextIOWrapper \n",
    "name='C:/Users/Kumbirai.Matingo/Documents/Midlands State University/Staff Development Fellowship - Lecturing/2024/HSVG 245 - Programming for Geomatics Applications/Lecture_Code_Snippets/example_text_file.txt' \n",
    "mode='r' \n",
    "encoding='utf-8'>\n",
    "```"
   ]
  }
 ],
 "metadata": {
  "kernelspec": {
   "display_name": "base",
   "language": "python",
   "name": "python3"
  },
  "language_info": {
   "codemirror_mode": {
    "name": "ipython",
    "version": 3
   },
   "file_extension": ".py",
   "mimetype": "text/x-python",
   "name": "python",
   "nbconvert_exporter": "python",
   "pygments_lexer": "ipython3",
   "version": "3.11.5"
  }
 },
 "nbformat": 4,
 "nbformat_minor": 2
}
